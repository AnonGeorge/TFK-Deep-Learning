{
 "cells": [
  {
   "cell_type": "markdown",
   "metadata": {
    "collapsed": true
   },
   "source": [
    "# Getting started with tensorflow"
   ]
  },
  {
   "cell_type": "code",
   "execution_count": null,
   "metadata": {
    "collapsed": true
   },
   "outputs": [],
   "source": [
    "import tensorflow as tf"
   ]
  },
  {
   "cell_type": "markdown",
   "metadata": {},
   "source": [
    "## Building the graph\n",
    "\n",
    "### Source operations - do not need info about input. The source ops will pass their info to other operations which will execute computation.                                                                                                                                                             \n",
    "\n",
    "#To create two source ops which will output numbers, we define two constants .\n",
    "    "
   ]
  },
  {
   "cell_type": "code",
   "execution_count": null,
   "metadata": {
    "collapsed": true
   },
   "outputs": [],
   "source": [
    "# Defining the graph\n",
    "a=tf.constant([2])\n",
    "b=tf.constant([10])"
   ]
  },
  {
   "cell_type": "markdown",
   "metadata": {},
   "source": [
    "### Let's make an operation over the variable. tf.add() adds two elements"
   ]
  },
  {
   "cell_type": "code",
   "execution_count": null,
   "metadata": {
    "collapsed": true
   },
   "outputs": [],
   "source": [
    "c = tf.add(a,b)"
   ]
  },
  {
   "cell_type": "markdown",
   "metadata": {},
   "source": [
    "### Now just the graph has been build, the operations haven't been executed. On printing the value of c you will not get 12"
   ]
  },
  {
   "cell_type": "code",
   "execution_count": null,
   "metadata": {
    "collapsed": true
   },
   "outputs": [],
   "source": [
    "print (c)"
   ]
  },
  {
   "cell_type": "markdown",
   "metadata": {},
   "source": [
    "### The TF need to initialize a session to run our computations defined in graph"
   ]
  },
  {
   "cell_type": "code",
   "execution_count": null,
   "metadata": {
    "collapsed": true
   },
   "outputs": [],
   "source": [
    "sess = tf.Session()\n",
    "\n",
    "# Run the session to get result from defined operation c\n",
    "result = sess.run(c)\n",
    "print ('The result is: ',result)\n",
    "\n",
    "# Close the session to release resources\n",
    "sess.close()"
   ]
  },
  {
   "cell_type": "markdown",
   "metadata": {},
   "source": [
    "#### To avoid having to close the session every time, we define it in a 'with' block, so after running the 'with' block, the session will close automatically"
   ]
  },
  {
   "cell_type": "code",
   "execution_count": null,
   "metadata": {
    "collapsed": true
   },
   "outputs": [],
   "source": [
    "with tf.Session() as sess:\n",
    "    result = sess.run(c)\n",
    "    print ('The result is: ', result)"
   ]
  },
  {
   "cell_type": "markdown",
   "metadata": {},
   "source": [
    "### This defines the basic structure of running a Tensorflow program\n",
    "#### we build the graph\n",
    "#### Define your operations like tf.add()\n",
    "#### Run the graph or subgraph by starting a session"
   ]
  },
  {
   "cell_type": "markdown",
   "metadata": {},
   "source": [
    "# Getting started with Tensor Board\n",
    "### TensorBoard is a visualization tool included with any standard TensorFlow installation.\n"
   ]
  },
  {
   "cell_type": "markdown",
   "metadata": {},
   "source": [
    "### To activate TensorBoard on this program, create a writer object to write operations to the event file, which is  stored in some log dir. execute this line after building graph , before running the session\n",
    "\n",
    "#### writer = tf . summary . FileWriter ( logs_dir , sess . graph)"
   ]
  },
  {
   "cell_type": "code",
   "execution_count": null,
   "metadata": {
    "collapsed": true
   },
   "outputs": [],
   "source": [
    "import tensorflow as tf\n",
    "a=tf.constant([12])\n",
    "b=tf.constant([100])\n",
    "c=tf.add(a,b)"
   ]
  },
  {
   "cell_type": "code",
   "execution_count": null,
   "metadata": {
    "collapsed": true
   },
   "outputs": [],
   "source": [
    "# log directory where all the event files will be stored\n",
    "logs_dir = './event_logs_new'"
   ]
  },
  {
   "cell_type": "code",
   "execution_count": null,
   "metadata": {
    "collapsed": true
   },
   "outputs": [],
   "source": [
    "with tf.Session() as sess:\n",
    "    # create a writer object\n",
    "    writer = tf.summary.FileWriter(logs_dir ,sess.graph)\n",
    "    result = sess.run(c)\n",
    "    print ('The result is: ', result)"
   ]
  },
  {
   "cell_type": "code",
   "execution_count": null,
   "metadata": {
    "collapsed": true
   },
   "outputs": [],
   "source": [
    "# Close the writer once you are done using it\n",
    "writer.close()"
   ]
  },
  {
   "cell_type": "markdown",
   "metadata": {},
   "source": [
    "### open a terminal from where you ran this code and run\n",
    "     tensorboard --logdir=event_logs --port 6006\n",
    "     Then open your browser and go to: http://localhost:6006/\n"
   ]
  },
  {
   "cell_type": "markdown",
   "metadata": {},
   "source": [
    "### Naming the operations"
   ]
  },
  {
   "cell_type": "code",
   "execution_count": null,
   "metadata": {
    "collapsed": true
   },
   "outputs": [],
   "source": [
    "import tensorflow as tf\n",
    "a=tf.constant([2],name='a')\n",
    "b=tf.constant([10],name='b')\n",
    "c=tf.add(a,b,name='addition')\n"
   ]
  },
  {
   "cell_type": "code",
   "execution_count": null,
   "metadata": {},
   "outputs": [],
   "source": [
    "with tf.Session() as sess:\n",
    "    # create a writer object\n",
    "    writer = tf.summary.FileWriter(logs_dir ,sess.graph)\n",
    "    result = sess.run(c)\n",
    "    print ('The result is: ', result)\n",
    "# Close the writer once you are done using it\n",
    "writer.close()"
   ]
  },
  {
   "cell_type": "markdown",
   "metadata": {},
   "source": [
    "### Using namescope to name a block of operation"
   ]
  },
  {
   "cell_type": "code",
   "execution_count": null,
   "metadata": {},
   "outputs": [],
   "source": [
    "with tf.name_scope('input'):\n",
    "    a=tf.constant([2],name=\"input_a\")\n",
    "    b=tf.constant([3],name=\"input_b\")\n",
    "    f=tf.constant([5],name=\"input_f\")\n",
    "    \n",
    "with tf.name_scope('add_output'):\n",
    "    c = tf.add(a,b)\n",
    "    \n",
    "with tf.name_scope('sub_output'):\n",
    "    d = tf.subtract(a,b)\n",
    "    \n",
    "with tf.name_scope('mul_output'):\n",
    "    e = tf.multiply(c,d,name=\"mul_1\")\n",
    "    g = tf.multiply(f,e,name=\"mul_2\")\n",
    "     \n",
    "    \n",
    "with tf.Session() as sess:\n",
    "    writer = tf.summary.FileWriter(logs_dir, sess.graph)\n",
    "    result=sess.run(c)\n",
    "    print (result)\n",
    "    result_sub=sess.run(d)\n",
    "    print (result_sub)\n",
    "    result_mul_1=sess.run(e)\n",
    "    print (result_mul_1)\n",
    "    result_mul2=sess.run(g)\n",
    "    print (result_mul2)"
   ]
  },
  {
   "cell_type": "markdown",
   "metadata": {},
   "source": []
  },
  {
   "cell_type": "code",
   "execution_count": null,
   "metadata": {
    "collapsed": true
   },
   "outputs": [],
   "source": []
  }
 ],
 "metadata": {
  "kernelspec": {
   "display_name": "Python 3",
   "language": "python",
   "name": "python3"
  },
  "language_info": {
   "codemirror_mode": {
    "name": "ipython",
    "version": 3
   },
   "file_extension": ".py",
   "mimetype": "text/x-python",
   "name": "python",
   "nbconvert_exporter": "python",
   "pygments_lexer": "ipython3",
   "version": "3.6.1"
  }
 },
 "nbformat": 4,
 "nbformat_minor": 2
}
